{
 "cells": [
  {
   "cell_type": "code",
   "execution_count": null,
   "metadata": {},
   "outputs": [],
   "source": [
    "dbutils.fs.ls(\"s3://projeto-dsa-analytics/dados/dbadmin/\")"
   ]
  },
  {
   "cell_type": "code",
   "execution_count": 0,
   "metadata": {
    "application/vnd.databricks.v1+cell": {
     "inputWidgets": {},
     "nuid": "faeb8a82-3903-4b74-aac1-2ab8d4512eaf",
     "showTitle": false,
     "title": ""
    }
   },
   "outputs": [],
   "source": [
    "df = spark.read.load(\"s3://projeto-analytics/dados/dbadmin/p5_tb_usuarios\")"
   ]
  },
  {
   "cell_type": "code",
   "execution_count": 0,
   "metadata": {
    "application/vnd.databricks.v1+cell": {
     "inputWidgets": {},
     "nuid": "864e1b50-8295-4453-a01d-6a2ec2981132",
     "showTitle": false,
     "title": ""
    },
    "scrolled": true
   },
   "outputs": [
    {
     "data": {
      "text/html": [
       "<style scoped>\n",
       "  .table-result-container {\n",
       "    max-height: 300px;\n",
       "    overflow: auto;\n",
       "  }\n",
       "  table, th, td {\n",
       "    border: 1px solid black;\n",
       "    border-collapse: collapse;\n",
       "  }\n",
       "  th, td {\n",
       "    padding: 5px;\n",
       "  }\n",
       "  th {\n",
       "    text-align: left;\n",
       "  }\n",
       "</style><div class='table-result-container'><table class='table-result'><thead style='background-color: white'><tr><th>_airbyte_ab_id</th><th>_airbyte_emitted_at</th><th>cod_cidade</th><th>id_usuario</th><th>nome_usuario</th><th>_airbyte_additional_properties</th></tr></thead><tbody><tr><td>aaacc66c-cef1-4bea-ba2d-cc33890d7624</td><td>2022-09-25T19:11:00.608+0000</td><td>BLU01</td><td>1001</td><td>Bob Silva</td><td>null</td></tr><tr><td>493705a6-3a35-4399-b8b2-8eb8f167ea58</td><td>2022-09-25T19:11:00.608+0000</td><td>BLU01</td><td>1002</td><td>Monica Teixeira</td><td>null</td></tr><tr><td>8ac3cfe2-c1f3-48d2-9f3f-47ea86221a20</td><td>2022-09-25T19:11:00.608+0000</td><td>FOR01</td><td>1003</td><td>Josenildo Farias</td><td>null</td></tr><tr><td>f286245b-66a5-48a9-adb4-e497f7d96d67</td><td>2022-09-25T19:11:00.608+0000</td><td>UBA01</td><td>1004</td><td>Maria Joy</td><td>null</td></tr><tr><td>b1434733-4e0d-48ca-a7b3-2067eb7d6feb</td><td>2022-09-25T19:11:00.608+0000</td><td>FOR01</td><td>1005</td><td>Alex Tavares</td><td>null</td></tr></tbody></table></div>"
      ]
     },
     "metadata": {
      "application/vnd.databricks.v1+output": {
       "addedWidgets": {},
       "aggData": [],
       "aggError": "",
       "aggOverflow": false,
       "aggSchema": [],
       "aggSeriesLimitReached": false,
       "aggType": "",
       "arguments": {},
       "columnCustomDisplayInfos": {},
       "data": [
        [
         "aaacc66c-cef1-4bea-ba2d-cc33890d7624",
         "2022-09-25T19:11:00.608+0000",
         "BLU01",
         1001,
         "Bob Silva",
         null
        ],
        [
         "493705a6-3a35-4399-b8b2-8eb8f167ea58",
         "2022-09-25T19:11:00.608+0000",
         "BLU01",
         1002,
         "Monica Teixeira",
         null
        ],
        [
         "8ac3cfe2-c1f3-48d2-9f3f-47ea86221a20",
         "2022-09-25T19:11:00.608+0000",
         "FOR01",
         1003,
         "Josenildo Farias",
         null
        ],
        [
         "f286245b-66a5-48a9-adb4-e497f7d96d67",
         "2022-09-25T19:11:00.608+0000",
         "UBA01",
         1004,
         "Maria Joy",
         null
        ],
        [
         "b1434733-4e0d-48ca-a7b3-2067eb7d6feb",
         "2022-09-25T19:11:00.608+0000",
         "FOR01",
         1005,
         "Alex Tavares",
         null
        ]
       ],
       "datasetInfos": [],
       "dbfsResultPath": null,
       "isJsonSchema": true,
       "metadata": {},
       "overflow": false,
       "plotOptions": {
        "customPlotOptions": {},
        "displayType": "table",
        "pivotAggregation": null,
        "pivotColumns": null,
        "xColumns": null,
        "yColumns": null
       },
       "removedWidgets": [],
       "schema": [
        {
         "metadata": "{}",
         "name": "_airbyte_ab_id",
         "type": "\"string\""
        },
        {
         "metadata": "{}",
         "name": "_airbyte_emitted_at",
         "type": "\"timestamp\""
        },
        {
         "metadata": "{}",
         "name": "cod_cidade",
         "type": "\"string\""
        },
        {
         "metadata": "{}",
         "name": "id_usuario",
         "type": "\"integer\""
        },
        {
         "metadata": "{}",
         "name": "nome_usuario",
         "type": "\"string\""
        },
        {
         "metadata": "{}",
         "name": "_airbyte_additional_properties",
         "type": "{\"type\":\"map\",\"keyType\":\"string\",\"valueType\":\"string\",\"valueContainsNull\":true}"
        }
       ],
       "type": "table"
      }
     },
     "output_type": "display_data"
    }
   ],
   "source": [
    "display(df) "
   ]
  },
  {
   "cell_type": "code",
   "execution_count": 0,
   "metadata": {
    "application/vnd.databricks.v1+cell": {
     "inputWidgets": {},
     "nuid": "7fd4dbac-1664-4dfe-9fec-8680650b2fed",
     "showTitle": false,
     "title": ""
    }
   },
   "outputs": [
    {
     "data": {
      "text/html": [
       "<style scoped>\n",
       "  .table-result-container {\n",
       "    max-height: 300px;\n",
       "    overflow: auto;\n",
       "  }\n",
       "  table, th, td {\n",
       "    border: 1px solid black;\n",
       "    border-collapse: collapse;\n",
       "  }\n",
       "  th, td {\n",
       "    padding: 5px;\n",
       "  }\n",
       "  th {\n",
       "    text-align: left;\n",
       "  }\n",
       "</style><div class='table-result-container'><table class='table-result'><thead style='background-color: white'><tr><th>nome_usuario</th><th>nome_cidade</th></tr></thead><tbody><tr><td>Bob Silva</td><td>Blumenau</td></tr><tr><td>Monica Teixeira</td><td>Blumenau</td></tr><tr><td>Josenildo Farias</td><td>Fortaleza</td></tr><tr><td>Maria Joy</td><td>Ubatuba</td></tr><tr><td>Alex Tavares</td><td>Fortaleza</td></tr></tbody></table></div>"
      ]
     },
     "metadata": {
      "application/vnd.databricks.v1+output": {
       "addedWidgets": {},
       "aggData": [],
       "aggError": "",
       "aggOverflow": false,
       "aggSchema": [],
       "aggSeriesLimitReached": false,
       "aggType": "",
       "arguments": {},
       "columnCustomDisplayInfos": {},
       "data": [
        [
         "Bob Silva",
         "Blumenau"
        ],
        [
         "Monica Teixeira",
         "Blumenau"
        ],
        [
         "Josenildo Farias",
         "Fortaleza"
        ],
        [
         "Maria Joy",
         "Ubatuba"
        ],
        [
         "Alex Tavares",
         "Fortaleza"
        ]
       ],
       "datasetInfos": [],
       "dbfsResultPath": null,
       "isJsonSchema": true,
       "metadata": {},
       "overflow": false,
       "plotOptions": {
        "customPlotOptions": {},
        "displayType": "table",
        "pivotAggregation": null,
        "pivotColumns": null,
        "xColumns": null,
        "yColumns": null
       },
       "removedWidgets": [],
       "schema": [
        {
         "metadata": "{}",
         "name": "nome_usuario",
         "type": "\"string\""
        },
        {
         "metadata": "{}",
         "name": "nome_cidade",
         "type": "\"string\""
        }
       ],
       "type": "table"
      }
     },
     "output_type": "display_data"
    }
   ],
   "source": [
    "%sql\n",
    "SELECT nome_usuario, nome_cidade\n",
    "FROM dbadmin.p5_tb_usuarios, dbadmin.p5_tb_cidades\n",
    "WHERE dbadmin.p5_tb_cidades.codigo_cidade = dbadmin.p5_tb_usuarios.cod_cidade;"
   ]
  },
  {
   "cell_type": "code",
   "execution_count": 0,
   "metadata": {
    "application/vnd.databricks.v1+cell": {
     "inputWidgets": {},
     "nuid": "5cab1d1f-6a79-46a5-8c3b-d342506314ad",
     "showTitle": false,
     "title": ""
    }
   },
   "outputs": [
    {
     "data": {
      "text/html": [
       "<style scoped>\n",
       "  .table-result-container {\n",
       "    max-height: 300px;\n",
       "    overflow: auto;\n",
       "  }\n",
       "  table, th, td {\n",
       "    border: 1px solid black;\n",
       "    border-collapse: collapse;\n",
       "  }\n",
       "  th, td {\n",
       "    padding: 5px;\n",
       "  }\n",
       "  th {\n",
       "    text-align: left;\n",
       "  }\n",
       "</style><div class='table-result-container'><table class='table-result'><thead style='background-color: white'><tr><th>nome_cidade</th><th>count(1)</th></tr></thead><tbody><tr><td>Fortaleza</td><td>2</td></tr><tr><td>Ubatuba</td><td>1</td></tr><tr><td>Blumenau</td><td>2</td></tr></tbody></table></div>"
      ]
     },
     "metadata": {
      "application/vnd.databricks.v1+output": {
       "addedWidgets": {},
       "aggData": [],
       "aggError": "",
       "aggOverflow": false,
       "aggSchema": [],
       "aggSeriesLimitReached": false,
       "aggType": "",
       "arguments": {},
       "columnCustomDisplayInfos": {},
       "data": [
        [
         "Fortaleza",
         2
        ],
        [
         "Ubatuba",
         1
        ],
        [
         "Blumenau",
         2
        ]
       ],
       "datasetInfos": [],
       "dbfsResultPath": null,
       "isJsonSchema": true,
       "metadata": {},
       "overflow": false,
       "plotOptions": {
        "customPlotOptions": {},
        "displayType": "table",
        "pivotAggregation": null,
        "pivotColumns": null,
        "xColumns": null,
        "yColumns": null
       },
       "removedWidgets": [],
       "schema": [
        {
         "metadata": "{}",
         "name": "nome_cidade",
         "type": "\"string\""
        },
        {
         "metadata": "{\"__autoGeneratedAlias\":\"true\"}",
         "name": "count(1)",
         "type": "\"long\""
        }
       ],
       "type": "table"
      }
     },
     "output_type": "display_data"
    },
    {
     "data": {
      "text/plain": [
       "Output can only be rendered in Databricks"
      ]
     },
     "metadata": {
      "application/vnd.databricks.v1.subcommand+json": {
       "bindings": {},
       "collapsed": false,
       "command": "%sql WITH q AS (SELECT nome_cidade, COUNT(*)\nFROM dbadmin.p5_tb_usuarios, dbadmin.p5_tb_cidades\nWHERE dbadmin.p5_tb_cidades.codigo_cidade = dbadmin.p5_tb_usuarios.cod_cidade\nGROUP BY nome_cidade) SELECT `nome_cidade`,SUM(`count(1)`) `column_e4fea9b72` FROM q GROUP BY `nome_cidade`",
       "commandTitle": "Visualization 1",
       "commandType": "auto",
       "commandVersion": 0,
       "commentThread": [],
       "commentsVisible": false,
       "contentSha256Hex": null,
       "customPlotOptions": {
        "redashChart": [
         {
          "key": "type",
          "value": "CHART"
         },
         {
          "key": "options",
          "value": {
           "alignYAxesAtZero": false,
           "coefficient": 1,
           "columnConfigurationMap": {
            "x": {
             "column": "nome_cidade",
             "id": "column_e4fea9b71"
            },
            "y": [
             {
              "column": "count(1)",
              "id": "column_e4fea9b72",
              "transform": "SUM"
             }
            ]
           },
           "dateTimeFormat": "DD/MM/YYYY HH:mm",
           "direction": {
            "type": "counterclockwise"
           },
           "error_y": {
            "type": "data",
            "visible": true
           },
           "globalSeriesType": "pie",
           "isAggregationOn": true,
           "legend": {
            "traceorder": "normal"
           },
           "missingValuesAsZero": true,
           "numberFormat": "0,0[.]00000",
           "percentFormat": "0[.]00%",
           "series": {
            "error_y": {
             "type": "data",
             "visible": true
            },
            "stacking": null
           },
           "seriesOptions": {
            "column_e4fea9b72": {
             "name": "Total de Usuários",
             "type": "pie",
             "yAxis": 0
            }
           },
           "showDataLabels": true,
           "sizemode": "diameter",
           "sortX": true,
           "sortY": true,
           "swappedAxes": false,
           "textFormat": "",
           "useAggregationsUi": true,
           "valuesOptions": {},
           "version": 2,
           "xAxis": {
            "labels": {
             "enabled": true
            },
            "type": "-"
           },
           "yAxis": [
            {
             "type": "-"
            },
            {
             "opposite": true,
             "type": "-"
            }
           ]
          }
         }
        ]
       },
       "datasetPreviewNameToCmdIdMap": {},
       "diffDeletes": [],
       "diffInserts": [],
       "displayType": "redashChart",
       "error": null,
       "errorSummary": null,
       "errorTraceType": null,
       "finishTime": 0,
       "globalVars": {},
       "guid": "f2aba9fa-c2a4-4d4d-8731-92f51f3472b5",
       "height": "auto",
       "hideCommandCode": false,
       "hideCommandResult": false,
       "iPythonMetadata": null,
       "inputWidgets": {},
       "isLockedInExamMode": false,
       "latestUser": "a user",
       "latestUserId": null,
       "listResultMetadata": null,
       "metadata": {
        "implicitDf": true
       },
       "nuid": "5bd31f97-e200-4c66-8885-285c7868378e",
       "origId": 4113532300251388,
       "parentHierarchy": [
        "dd04da59-ff79-4317-bca5-a533754bcd50"
       ],
       "pivotAggregation": null,
       "pivotColumns": null,
       "position": 6,
       "resultDbfsErrorMessage": null,
       "resultDbfsStatus": "INLINED_IN_TREE",
       "results": null,
       "showCommandTitle": false,
       "startTime": 0,
       "state": "finished",
       "streamStates": {},
       "subcommandOptions": {
        "queryPlan": {
         "groups": [
          {
           "column": "nome_cidade",
           "type": "column"
          }
         ],
         "selects": [
          {
           "column": "nome_cidade",
           "type": "column"
          },
          {
           "alias": "column_e4fea9b72",
           "args": [
            {
             "column": "count(1)",
             "type": "column"
            }
           ],
           "function": "SUM",
           "type": "function"
          }
         ]
        }
       },
       "submitTime": 0,
       "subtype": "tableResultSubCmd.visualization",
       "tableResultIndex": 0,
       "useConsistentColors": false,
       "version": "CommandV1",
       "width": "auto",
       "workflows": [],
       "xColumns": null,
       "yColumns": null
      }
     },
     "output_type": "display_data"
    }
   ],
   "source": [
    "%sql\n",
    "SELECT nome_cidade, COUNT(*)\n",
    "FROM dbadmin.p5_tb_usuarios, dbadmin.p5_tb_cidades\n",
    "WHERE dbadmin.p5_tb_cidades.codigo_cidade = dbadmin.p5_tb_usuarios.cod_cidade\n",
    "GROUP BY nome_cidade;"
   ]
  }
 ],
 "metadata": {
  "application/vnd.databricks.v1+notebook": {
   "dashboards": [
    {
     "elements": [
      {
       "dashboardResultIndex": 0,
       "elementNUID": "5cab1d1f-6a79-46a5-8c3b-d342506314ad",
       "elementType": "command",
       "guid": "2502bdde-fa7e-4add-97e2-4cc9e2f8b5f2",
       "options": null,
       "position": {
        "height": 6,
        "width": 12,
        "x": 0,
        "y": 0,
        "z": null
       },
       "resultIndex": null
      },
      {
       "dashboardResultIndex": 0,
       "elementNUID": "7fd4dbac-1664-4dfe-9fec-8680650b2fed",
       "elementType": "command",
       "guid": "71b5191d-e45d-4ff6-a466-458a14c95c49",
       "options": null,
       "position": {
        "height": 6,
        "width": 12,
        "x": 0,
        "y": 6,
        "z": null
       },
       "resultIndex": null
      },
      {
       "dashboardResultIndex": null,
       "elementNUID": "5bd31f97-e200-4c66-8885-285c7868378e",
       "elementType": "command",
       "guid": "b111fac6-d88f-4b0e-90a0-4f9130111884",
       "options": null,
       "position": {
        "height": 6,
        "width": 12,
        "x": 0,
        "y": 12,
        "z": null
       },
       "resultIndex": null
      }
     ],
     "globalVars": {},
     "guid": "c6b6c82f-884f-4b60-8489-1c60066c3f51",
     "layoutOption": {
      "grid": true,
      "stack": true
     },
     "nuid": "a75f0a9c-d453-4fb8-a196-5814cf37d3b1",
     "origId": 4113532300251389,
     "title": "DashP5",
     "version": "DashboardViewV1",
     "width": 1024
    }
   ],
   "language": "python",
   "notebookMetadata": {
    "mostRecentlyExecutedCommandWithImplicitDF": {
     "commandId": 4113532300251388,
     "dataframes": [
      "_sqldf"
     ]
    },
    "pythonIndentUnit": 4
   },
   "notebookName": "Projeto5",
   "notebookOrigID": 4113532300251382,
   "widgets": {}
  },
  "kernelspec": {
   "display_name": "Python 3 (ipykernel)",
   "language": "python",
   "name": "python3"
  },
  "language_info": {
   "codemirror_mode": {
    "name": "ipython",
    "version": 3
   },
   "file_extension": ".py",
   "mimetype": "text/x-python",
   "name": "python",
   "nbconvert_exporter": "python",
   "pygments_lexer": "ipython3",
   "version": "3.11.1"
  }
 },
 "nbformat": 4,
 "nbformat_minor": 1
}
